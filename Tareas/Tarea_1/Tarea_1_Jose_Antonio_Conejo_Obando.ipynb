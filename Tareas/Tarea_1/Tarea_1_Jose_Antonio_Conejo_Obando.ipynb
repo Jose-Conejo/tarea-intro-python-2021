{
 "cells": [
  {
   "cell_type": "code",
   "execution_count": 1,
   "metadata": {},
   "outputs": [
    {
     "name": "stdout",
     "output_type": "stream",
     "text": [
      "Hola Mundo\n"
     ]
    }
   ],
   "source": [
    "print(\"Hola Mundo\")"
   ]
  },
  {
   "cell_type": "code",
   "execution_count": 3,
   "metadata": {},
   "outputs": [
    {
     "name": "stdout",
     "output_type": "stream",
     "text": [
      "Jose Antonio Conejo Obando 25 años Costa Rica\n"
     ]
    }
   ],
   "source": [
    "nombre=\"Jose Antonio Conejo Obando \"\n",
    "edad=\"25 años \"\n",
    "país=\"Costa Rica\"\n",
    "print(nombre+edad+país)"
   ]
  },
  {
   "cell_type": "code",
   "execution_count": 4,
   "metadata": {},
   "outputs": [
    {
     "name": "stdout",
     "output_type": "stream",
     "text": [
      "Las variables anteriores son del tipo String\n"
     ]
    }
   ],
   "source": [
    "tipo_de_datos=\"Las variables anteriores son del tipo String\"\n",
    "print(tipo_de_datos)"
   ]
  },
  {
   "cell_type": "code",
   "execution_count": 12,
   "metadata": {},
   "outputs": [
    {
     "name": "stdout",
     "output_type": "stream",
     "text": [
      "En astronomía, la clasificación estelar \n",
      " es la clasificación de las estrellas en \n",
      " función de sus características espectrales.\n"
     ]
    }
   ],
   "source": [
    "print(\"En astronomía, la clasificación estelar \\n es la clasificación de las estrellas en \\n función de sus características espectrales.\")"
   ]
  },
  {
   "cell_type": "code",
   "execution_count": 17,
   "metadata": {},
   "outputs": [
    {
     "name": "stdout",
     "output_type": "stream",
     "text": [
      "Hipergigantes---Subgigantes---Secuencia principal*\n"
     ]
    }
   ],
   "source": [
    "sep=\"---\"\n",
    "end=\"*\"\n",
    "print(\"Hipergigantes\"+sep+\"Subgigantes\"+sep+\"Secuencia principal\"+end)"
   ]
  },
  {
   "cell_type": "code",
   "execution_count": 19,
   "metadata": {},
   "outputs": [
    {
     "name": "stdout",
     "output_type": "stream",
     "text": [
      "el cálculo de la masa de Júpiter es de 2.08438816e+33kg\n"
     ]
    }
   ],
   "source": [
    "m_solar=1.98892E30\n",
    "m_jupiter=1048*masa_solar\n",
    "print(f\"el cálculo de la masa de Júpiter es de {m_jupiter}kg\")"
   ]
  },
  {
   "cell_type": "code",
   "execution_count": 22,
   "metadata": {},
   "outputs": [
    {
     "name": "stdout",
     "output_type": "stream",
     "text": [
      "False\n",
      "False\n",
      "True\n",
      "True\n",
      "True\n"
     ]
    }
   ],
   "source": [
    "distancia_mercurio=0.389\n",
    "distancia_venus=0.723\n",
    "distancia_marte=1.524\n",
    "distancia_jupiter=5.203\n",
    "distancia_saturno=9.537\n",
    "declaracion= False\n",
    "if distancia_mercurio<1:\n",
    "    print(declaracion)\n",
    "if distancia_mercurio>1:\n",
    "    print(not declaracion)\n",
    "if distancia_venus<1:\n",
    "    print(declaracion)\n",
    "if distancia_venus>1:\n",
    "    print(not declaracion)\n",
    "if distancia_marte<1:\n",
    "    print(declaracion)\n",
    "if distancia_marte>1:\n",
    "    print(not declaracion)\n",
    "if distancia_jupiter<1:\n",
    "    print(declaracion)\n",
    "if distancia_jupiter>1:\n",
    "    print(not declaracion)\n",
    "if distancia_saturno<1:\n",
    "    print(declaracion)\n",
    "if distancia_saturno>1:\n",
    "    print(not declaracion)"
   ]
  },
  {
   "cell_type": "code",
   "execution_count": null,
   "metadata": {},
   "outputs": [],
   "source": []
  }
 ],
 "metadata": {
  "kernelspec": {
   "display_name": "Python 3",
   "language": "python",
   "name": "python3"
  },
  "language_info": {
   "codemirror_mode": {
    "name": "ipython",
    "version": 3
   },
   "file_extension": ".py",
   "mimetype": "text/x-python",
   "name": "python",
   "nbconvert_exporter": "python",
   "pygments_lexer": "ipython3",
   "version": "3.8.5"
  }
 },
 "nbformat": 4,
 "nbformat_minor": 4
}
