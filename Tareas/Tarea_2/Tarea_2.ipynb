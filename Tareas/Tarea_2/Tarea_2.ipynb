{
 "cells": [
  {
   "cell_type": "code",
   "execution_count": 1,
   "metadata": {},
   "outputs": [],
   "source": [
    "list_messier=[\"M1\",\"M200\",\"M17\",\"M31\",\"M87\",\"M104\"]\n",
    "print(list_messier)"
   ]
  },
  {
   "cell_type": "code",
   "execution_count": 2,
   "metadata": {},
   "outputs": [
    {
     "name": "stdout",
     "output_type": "stream",
     "text": [
      "['M1', 'M200', 'M17', 'M31', 'M87', 'M104', 'M97']\n"
     ]
    }
   ],
   "source": [
    "list_messier.append(\"M97\")\n",
    "print(list_messier)"
   ]
  },
  {
   "cell_type": "code",
   "execution_count": 3,
   "metadata": {},
   "outputs": [
    {
     "data": {
      "text/plain": [
       "'M17'"
      ]
     },
     "execution_count": 3,
     "metadata": {},
     "output_type": "execute_result"
    }
   ],
   "source": [
    "list_messier[2]"
   ]
  },
  {
   "cell_type": "code",
   "execution_count": 4,
   "metadata": {},
   "outputs": [
    {
     "data": {
      "text/plain": [
       "'M97'"
      ]
     },
     "execution_count": 4,
     "metadata": {},
     "output_type": "execute_result"
    }
   ],
   "source": [
    "list_messier[-1]"
   ]
  },
  {
   "cell_type": "code",
   "execution_count": 5,
   "metadata": {},
   "outputs": [
    {
     "data": {
      "text/plain": [
       "['M200', 'M17', 'M31']"
      ]
     },
     "execution_count": 5,
     "metadata": {},
     "output_type": "execute_result"
    }
   ],
   "source": [
    "list_messier[1:4]"
   ]
  },
  {
   "cell_type": "code",
   "execution_count": 6,
   "metadata": {},
   "outputs": [
    {
     "data": {
      "text/plain": [
       "7"
      ]
     },
     "execution_count": 6,
     "metadata": {},
     "output_type": "execute_result"
    }
   ],
   "source": [
    "len(list_messier)"
   ]
  },
  {
   "cell_type": "code",
   "execution_count": 7,
   "metadata": {},
   "outputs": [
    {
     "name": "stdout",
     "output_type": "stream",
     "text": [
      "M87 se encuentra en la lista\n"
     ]
    }
   ],
   "source": [
    "if \"M87\" in list_messier:\n",
    "    print (\"M87 se encuentra en la lista\")"
   ]
  },
  {
   "cell_type": "code",
   "execution_count": 8,
   "metadata": {},
   "outputs": [
    {
     "name": "stdout",
     "output_type": "stream",
     "text": [
      "['M1', 'NGC 205', 'M17', 'M31', 'M87', 'M104', 'M97']\n"
     ]
    }
   ],
   "source": [
    "for i in range(len(list_messier)):\n",
    "    if list_messier[i]== \"M200\":\n",
    "        list_messier[i]=\"NGC 205\"\n",
    "print(list_messier)"
   ]
  },
  {
   "cell_type": "code",
   "execution_count": 9,
   "metadata": {},
   "outputs": [
    {
     "data": {
      "text/plain": [
       "['M1', 'NGC 205', 'M17', 'M87', 'M104', 'M97']"
      ]
     },
     "execution_count": 9,
     "metadata": {},
     "output_type": "execute_result"
    }
   ],
   "source": [
    "list_messier.remove(\"M31\")\n",
    "list_messier"
   ]
  },
  {
   "cell_type": "code",
   "execution_count": 10,
   "metadata": {},
   "outputs": [
    {
     "data": {
      "text/plain": [
       "['NGC 205', 'M17', 'M87', 'M104', 'M97']"
      ]
     },
     "execution_count": 10,
     "metadata": {},
     "output_type": "execute_result"
    }
   ],
   "source": [
    "list_messier.pop(0)\n",
    "list_messier"
   ]
  },
  {
   "cell_type": "code",
   "execution_count": 11,
   "metadata": {},
   "outputs": [
    {
     "data": {
      "text/plain": [
       "['NGC 205', 'M17', 'M87', 'M97']"
      ]
     },
     "execution_count": 11,
     "metadata": {},
     "output_type": "execute_result"
    }
   ],
   "source": [
    "del list_messier[3]\n",
    "list_messier"
   ]
  },
  {
   "cell_type": "code",
   "execution_count": 12,
   "metadata": {},
   "outputs": [
    {
     "data": {
      "text/plain": [
       "[]"
      ]
     },
     "execution_count": 12,
     "metadata": {},
     "output_type": "execute_result"
    }
   ],
   "source": [
    "list_messier.clear()\n",
    "list_messier"
   ]
  },
  {
   "cell_type": "code",
   "execution_count": 13,
   "metadata": {},
   "outputs": [],
   "source": [
    "del list_messier\n",
    "#Llamar a la lista produce un error, dado que la variable no está definida"
   ]
  },
  {
   "cell_type": "code",
   "execution_count": 16,
   "metadata": {},
   "outputs": [
    {
     "name": "stdout",
     "output_type": "stream",
     "text": [
      "valor mínimo:  3.302e+23 valor máximo: 1.8987e+27\n"
     ]
    }
   ],
   "source": [
    "list_masas=[3.302e23,4.8690e24,5.9742e24,6.4191e23,1.8987e27,5.6851e26,8.6849e25,1.0244e26]\n",
    "valor_min=min(list_masas)\n",
    "valor_max=max(list_masas)\n",
    "print(\"valor mínimo: \",valor_min, \"valor máximo:\", valor_max)"
   ]
  },
  {
   "cell_type": "code",
   "execution_count": 17,
   "metadata": {},
   "outputs": [
    {
     "name": "stdout",
     "output_type": "stream",
     "text": [
      "2.66831431e+27\n",
      "Usar la función sum() es equivalente a sumar cada componente de forma indivudual\n"
     ]
    }
   ],
   "source": [
    "suma=sum(list_masas)\n",
    "print(suma)\n",
    "comprobante=0\n",
    "for i in list_masas:\n",
    "    comprobante+=i\n",
    "if suma==comprobante:\n",
    "    print(\"Usar la función sum() es equivalente a sumar cada componente de forma indivudual\")"
   ]
  },
  {
   "cell_type": "code",
   "execution_count": 18,
   "metadata": {},
   "outputs": [
    {
     "name": "stdout",
     "output_type": "stream",
     "text": [
      "la suma de las masas equivale a un  0.1334157155 de la masa del sol\n"
     ]
    }
   ],
   "source": [
    "masa_solar=2e30\n",
    "porcentaje=(100*suma)/masa_solar\n",
    "print(\"la suma de las masas equivale a un \", porcentaje, \"de la masa del sol\")"
   ]
  },
  {
   "cell_type": "code",
   "execution_count": 49,
   "metadata": {},
   "outputs": [
    {
     "name": "stdout",
     "output_type": "stream",
     "text": [
      "3.302e+23\n",
      "4.869e+24\n",
      "5.9742e+24\n",
      "6.4191e+23\n",
      "1.8987e+27\n",
      "5.6851e+26\n",
      "8.6849e+25\n",
      "1.0244e+26\n"
     ]
    }
   ],
   "source": [
    "dic_masas={\"Mercurio\": 3.302e23, \"Venus\": 4.8690e24, \"Tierra\": 5.9742e24\n",
    "           , \"Marte\": 6.4191e23, \"Júpiter\": 1.8987e27, \"Saturno\": 5.6851e26\n",
    "           , \"Urano\": 8.6849e25, \"Neptuno\": 1.0244e26}\n",
    "for i in dic_masas:\n",
    "    print(dic_masas[i])"
   ]
  },
  {
   "cell_type": "code",
   "execution_count": null,
   "metadata": {},
   "outputs": [],
   "source": []
  },
  {
   "cell_type": "code",
   "execution_count": 62,
   "metadata": {},
   "outputs": [
    {
     "name": "stdout",
     "output_type": "stream",
     "text": [
      "3.302e+23\n",
      "4.869e+24\n",
      "5.9742e+24\n",
      "6.4191e+23\n",
      "1.8987e+27\n",
      "5.6851e+26\n",
      "8.6849e+25\n",
      "1.0244e+26\n"
     ]
    }
   ],
   "source": [
    "contenido=list(dic_masas.keys())\n",
    "contador=0\n",
    "while contador<len(dic_masas):\n",
    "    print(dic_masas[contenido[contador]])\n",
    "    contador=contador+1"
   ]
  },
  {
   "cell_type": "code",
   "execution_count": 63,
   "metadata": {},
   "outputs": [
    {
     "name": "stdout",
     "output_type": "stream",
     "text": [
      "1.6509999999999998e-09\n",
      "2.4345e-08\n",
      "2.9870999999999997e-08\n",
      "3.2095500000000004e-09\n",
      "9.493499999999998e-06\n",
      "2.84255e-06\n",
      "4.34245e-07\n",
      "5.121999999999999e-07\n"
     ]
    }
   ],
   "source": [
    "for i in dic_masas:\n",
    "    operacion=(dic_masas[i])/(masa_solar*100)\n",
    "    print(operacion)"
   ]
  },
  {
   "cell_type": "code",
   "execution_count": 65,
   "metadata": {},
   "outputs": [
    {
     "name": "stdout",
     "output_type": "stream",
     "text": [
      "2.66831431e+27\n",
      "2.66831431e+27\n"
     ]
    }
   ],
   "source": [
    "masa_total=0\n",
    "for i in dic_masas:\n",
    "    masa_total=masa_total+dic_masas[i]\n",
    "print(masa_total)\n",
    "masas=[]\n",
    "for i in dic_masas:\n",
    "    masas.append(dic_masas[i])\n",
    "suma_total=sum(masas)\n",
    "print(suma_total)"
   ]
  },
  {
   "cell_type": "code",
   "execution_count": 68,
   "metadata": {},
   "outputs": [],
   "source": [
    "resultado=open(\"suma_masas.txt\",\"w\")\n",
    "resultado.write(str(masa_total))\n",
    "resultado.close()"
   ]
  },
  {
   "cell_type": "code",
   "execution_count": null,
   "metadata": {},
   "outputs": [],
   "source": []
  }
 ],
 "metadata": {
  "kernelspec": {
   "display_name": "Python 3",
   "language": "python",
   "name": "python3"
  },
  "language_info": {
   "codemirror_mode": {
    "name": "ipython",
    "version": 3
   },
   "file_extension": ".py",
   "mimetype": "text/x-python",
   "name": "python",
   "nbconvert_exporter": "python",
   "pygments_lexer": "ipython3",
   "version": "3.8.5"
  }
 },
 "nbformat": 4,
 "nbformat_minor": 4
}
